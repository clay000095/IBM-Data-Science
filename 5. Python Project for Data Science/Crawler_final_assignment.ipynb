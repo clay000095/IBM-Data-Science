{
 "cells": [
  {
   "cell_type": "code",
   "execution_count": null,
   "metadata": {},
   "outputs": [
    {
     "name": "stdout",
     "output_type": "stream",
     "text": [
      "Requirement already satisfied: yfinance==0.1.60 in c:\\users\\cathy\\anaconda3\\envs\\tensorflow-gpu\\lib\\site-packages (0.1.60)\n",
      "Requirement already satisfied: requests>=2.20 in c:\\users\\cathy\\anaconda3\\envs\\tensorflow-gpu\\lib\\site-packages (from yfinance==0.1.60) (2.28.1)\n",
      "Requirement already satisfied: numpy>=1.15 in c:\\users\\cathy\\anaconda3\\envs\\tensorflow-gpu\\lib\\site-packages (from yfinance==0.1.60) (1.19.2)\n",
      "Requirement already satisfied: lxml>=4.5.1 in c:\\users\\cathy\\anaconda3\\envs\\tensorflow-gpu\\lib\\site-packages (from yfinance==0.1.60) (4.9.1)\n",
      "Requirement already satisfied: pandas>=0.24 in c:\\users\\cathy\\anaconda3\\envs\\tensorflow-gpu\\lib\\site-packages (from yfinance==0.1.60) (1.3.5)\n",
      "Requirement already satisfied: multitasking>=0.0.7 in c:\\users\\cathy\\anaconda3\\envs\\tensorflow-gpu\\lib\\site-packages (from yfinance==0.1.60) (0.0.11)\n",
      "Requirement already satisfied: pytz>=2017.3 in c:\\users\\cathy\\anaconda3\\envs\\tensorflow-gpu\\lib\\site-packages (from pandas>=0.24->yfinance==0.1.60) (2022.7)\n",
      "Requirement already satisfied: python-dateutil>=2.7.3 in c:\\users\\cathy\\anaconda3\\envs\\tensorflow-gpu\\lib\\site-packages (from pandas>=0.24->yfinance==0.1.60) (2.8.2)\n",
      "Requirement already satisfied: charset-normalizer<3,>=2 in c:\\users\\cathy\\anaconda3\\envs\\tensorflow-gpu\\lib\\site-packages (from requests>=2.20->yfinance==0.1.60) (2.0.4)\n",
      "Requirement already satisfied: idna<4,>=2.5 in c:\\users\\cathy\\anaconda3\\envs\\tensorflow-gpu\\lib\\site-packages (from requests>=2.20->yfinance==0.1.60) (3.3)\n",
      "Requirement already satisfied: urllib3<1.27,>=1.21.1 in c:\\users\\cathy\\anaconda3\\envs\\tensorflow-gpu\\lib\\site-packages (from requests>=2.20->yfinance==0.1.60) (1.26.11)\n",
      "Requirement already satisfied: certifi>=2017.4.17 in c:\\users\\cathy\\anaconda3\\envs\\tensorflow-gpu\\lib\\site-packages (from requests>=2.20->yfinance==0.1.60) (2022.12.7)\n",
      "Requirement already satisfied: six>=1.5 in c:\\users\\cathy\\anaconda3\\envs\\tensorflow-gpu\\lib\\site-packages (from python-dateutil>=2.7.3->pandas>=0.24->yfinance==0.1.60) (1.16.0)\n"
     ]
    },
    {
     "name": "stderr",
     "output_type": "stream",
     "text": [
      "'mamba' ���O�����Υ~���R�O�B�i���檺�{���Χ妸�ɡC\n"
     ]
    },
    {
     "name": "stdout",
     "output_type": "stream",
     "text": [
      "Requirement already satisfied: nbformat==4.2.0 in c:\\users\\cathy\\anaconda3\\envs\\tensorflow-gpu\\lib\\site-packages (4.2.0)\n",
      "Requirement already satisfied: jsonschema!=2.5.0,>=2.4 in c:\\users\\cathy\\anaconda3\\envs\\tensorflow-gpu\\lib\\site-packages (from nbformat==4.2.0) (4.4.0)\n",
      "Requirement already satisfied: jupyter-core in c:\\users\\cathy\\anaconda3\\envs\\tensorflow-gpu\\lib\\site-packages (from nbformat==4.2.0) (4.10.0)\n",
      "Requirement already satisfied: traitlets>=4.1 in c:\\users\\cathy\\anaconda3\\envs\\tensorflow-gpu\\lib\\site-packages (from nbformat==4.2.0) (5.1.1)\n",
      "Requirement already satisfied: ipython-genutils in c:\\users\\cathy\\anaconda3\\envs\\tensorflow-gpu\\lib\\site-packages (from nbformat==4.2.0) (0.2.0)\n",
      "Requirement already satisfied: importlib-resources>=1.4.0 in c:\\users\\cathy\\anaconda3\\envs\\tensorflow-gpu\\lib\\site-packages (from jsonschema!=2.5.0,>=2.4->nbformat==4.2.0) (5.2.0)\n",
      "Requirement already satisfied: pyrsistent!=0.17.0,!=0.17.1,!=0.17.2,>=0.14.0 in c:\\users\\cathy\\anaconda3\\envs\\tensorflow-gpu\\lib\\site-packages (from jsonschema!=2.5.0,>=2.4->nbformat==4.2.0) (0.18.0)\n",
      "Requirement already satisfied: importlib-metadata in c:\\users\\cathy\\anaconda3\\envs\\tensorflow-gpu\\lib\\site-packages (from jsonschema!=2.5.0,>=2.4->nbformat==4.2.0) (4.11.3)\n",
      "Requirement already satisfied: typing-extensions in c:\\users\\cathy\\anaconda3\\envs\\tensorflow-gpu\\lib\\site-packages (from jsonschema!=2.5.0,>=2.4->nbformat==4.2.0) (4.3.0)\n",
      "Requirement already satisfied: attrs>=17.4.0 in c:\\users\\cathy\\anaconda3\\envs\\tensorflow-gpu\\lib\\site-packages (from jsonschema!=2.5.0,>=2.4->nbformat==4.2.0) (21.4.0)\n",
      "Requirement already satisfied: pywin32>=1.0 in c:\\users\\cathy\\anaconda3\\envs\\tensorflow-gpu\\lib\\site-packages (from jupyter-core->nbformat==4.2.0) (302)\n",
      "Requirement already satisfied: zipp>=3.1.0 in c:\\users\\cathy\\anaconda3\\envs\\tensorflow-gpu\\lib\\site-packages (from importlib-resources>=1.4.0->jsonschema!=2.5.0,>=2.4->nbformat==4.2.0) (3.8.0)\n"
     ]
    }
   ],
   "source": [
    "pip install yfinance==0.1.60\n",
    "mamba install bs4==4.10.0 -y\n",
    "pip install nbformat==4.2.0"
   ]
  },
  {
   "cell_type": "code",
   "execution_count": null,
   "metadata": {},
   "outputs": [],
   "source": [
    "import yfinance as yf\n",
    "import pandas as pd\n",
    "import requests\n",
    "from bs4 import BeautifulSoup\n",
    "import plotly.graph_objects as go\n",
    "from plotly.subplots import make_subplots"
   ]
  },
  {
   "cell_type": "code",
   "execution_count": null,
   "metadata": {},
   "outputs": [],
   "source": [
    "def make_graph(stock_data, revenue_data, stock):\n",
    "    fig = make_subplots(rows=2, cols=1, shared_xaxes=True, subplot_titles=(\"Historical Share Price\", \"Historical Revenue\"), vertical_spacing = .3)\n",
    "    stock_data_specific = stock_data[stock_data.Date <= '2021--06-14']\n",
    "    revenue_data_specific = revenue_data[revenue_data.Date <= '2021-04-30']\n",
    "    fig.add_trace(go.Scatter(x=pd.to_datetime(stock_data_specific.Date, infer_datetime_format=True), y=stock_data_specific.Close.astype(\"float\"), name=\"Share Price\"), row=1, col=1)\n",
    "    fig.add_trace(go.Scatter(x=pd.to_datetime(revenue_data_specific.Date, infer_datetime_format=True), y=revenue_data_specific.Revenue.astype(\"float\"), name=\"Revenue\"), row=2, col=1)\n",
    "    fig.update_xaxes(title_text=\"Date\", row=1, col=1)\n",
    "    fig.update_xaxes(title_text=\"Date\", row=2, col=1)\n",
    "    fig.update_yaxes(title_text=\"Price ($US)\", row=1, col=1)\n",
    "    fig.update_yaxes(title_text=\"Revenue ($US Millions)\", row=2, col=1)\n",
    "    fig.update_layout(showlegend=False,\n",
    "    height=900,\n",
    "    title=stock,\n",
    "    xaxis_rangeslider_visible=True)\n",
    "    fig.show()"
   ]
  },
  {
   "attachments": {},
   "cell_type": "markdown",
   "metadata": {},
   "source": [
    "## Question 1: Use yfinance to Extract Stock Data"
   ]
  },
  {
   "cell_type": "code",
   "execution_count": null,
   "metadata": {},
   "outputs": [],
   "source": [
    "tesla = yf.Ticker(\"TSLA\")"
   ]
  },
  {
   "cell_type": "code",
   "execution_count": null,
   "metadata": {},
   "outputs": [],
   "source": [
    "tesla_data=tesla.history(period=\"max\")"
   ]
  },
  {
   "cell_type": "code",
   "execution_count": null,
   "metadata": {},
   "outputs": [],
   "source": [
    "tesla_data.reset_index(inplace=True)\n",
    "tesla_data.head()"
   ]
  },
  {
   "attachments": {},
   "cell_type": "markdown",
   "metadata": {},
   "source": [
    "## Question 2: Use Webscraping to Extract Tesla Revenue Data"
   ]
  },
  {
   "cell_type": "code",
   "execution_count": null,
   "metadata": {},
   "outputs": [],
   "source": [
    "url = 'https://www.macrotrends.net/stocks/charts/TSLA/tesla/revenue'\n",
    "html_data = requests.get(url).text"
   ]
  },
  {
   "cell_type": "code",
   "execution_count": null,
   "metadata": {},
   "outputs": [],
   "source": [
    "soup = BeautifulSoup(html_data)"
   ]
  },
  {
   "cell_type": "code",
   "execution_count": null,
   "metadata": {},
   "outputs": [],
   "source": [
    "tesla_revenue = pd.DataFrame(columns = ['Date' , 'Revenue'])\n",
    "for table in soup.find_all('table'):\n",
    "    if any(['Tesla Quarterly Revenue'.lower() in th.text.lower() for th in table.find_all('th')]):\n",
    "        for row in soup.find_all('tbody')[1].find_all('tr'):\n",
    "            col = row.find_all('td')\n",
    "            Date = col[0].text\n",
    "            Revenue = col[1].text\n",
    "            tesla_revenue = tesla_revenue.append({'Date':Date, 'Revenue':Revenue}, ignore_index=True)  \n",
    "    "
   ]
  },
  {
   "cell_type": "code",
   "execution_count": null,
   "metadata": {},
   "outputs": [],
   "source": [
    "tesla_revenue.dropna(inplace=True)\n",
    "\n",
    "tesla_revenue = tesla_revenue[tesla_revenue['Revenue'] != \"\"] "
   ]
  },
  {
   "cell_type": "code",
   "execution_count": null,
   "metadata": {},
   "outputs": [
    {
     "data": {
      "text/html": [
       "<div>\n",
       "<style scoped>\n",
       "    .dataframe tbody tr th:only-of-type {\n",
       "        vertical-align: middle;\n",
       "    }\n",
       "\n",
       "    .dataframe tbody tr th {\n",
       "        vertical-align: top;\n",
       "    }\n",
       "\n",
       "    .dataframe thead th {\n",
       "        text-align: right;\n",
       "    }\n",
       "</style>\n",
       "<table border=\"1\" class=\"dataframe\">\n",
       "  <thead>\n",
       "    <tr style=\"text-align: right;\">\n",
       "      <th></th>\n",
       "      <th>Date</th>\n",
       "      <th>Revenue</th>\n",
       "    </tr>\n",
       "  </thead>\n",
       "  <tbody>\n",
       "    <tr>\n",
       "      <th>48</th>\n",
       "      <td>2010-09-30</td>\n",
       "      <td>$31</td>\n",
       "    </tr>\n",
       "    <tr>\n",
       "      <th>49</th>\n",
       "      <td>2010-06-30</td>\n",
       "      <td>$28</td>\n",
       "    </tr>\n",
       "    <tr>\n",
       "      <th>50</th>\n",
       "      <td>2010-03-31</td>\n",
       "      <td>$21</td>\n",
       "    </tr>\n",
       "    <tr>\n",
       "      <th>52</th>\n",
       "      <td>2009-09-30</td>\n",
       "      <td>$46</td>\n",
       "    </tr>\n",
       "    <tr>\n",
       "      <th>53</th>\n",
       "      <td>2009-06-30</td>\n",
       "      <td>$27</td>\n",
       "    </tr>\n",
       "  </tbody>\n",
       "</table>\n",
       "</div>"
      ],
      "text/plain": [
       "          Date Revenue\n",
       "48  2010-09-30     $31\n",
       "49  2010-06-30     $28\n",
       "50  2010-03-31     $21\n",
       "52  2009-09-30     $46\n",
       "53  2009-06-30     $27"
      ]
     },
     "metadata": {},
     "output_type": "display_data"
    }
   ],
   "source": [
    "tesla_revenue.tail(5)"
   ]
  },
  {
   "attachments": {},
   "cell_type": "markdown",
   "metadata": {},
   "source": [
    "## Question 3: Use yfinance to Extract Stock Data"
   ]
  },
  {
   "cell_type": "code",
   "execution_count": null,
   "metadata": {},
   "outputs": [],
   "source": [
    "gme = yf.Ticker(\"GME\")"
   ]
  },
  {
   "cell_type": "code",
   "execution_count": null,
   "metadata": {},
   "outputs": [],
   "source": [
    "\n",
    "gme_data = gme.history(period=\"max\")"
   ]
  },
  {
   "cell_type": "code",
   "execution_count": null,
   "metadata": {},
   "outputs": [],
   "source": [
    "gme_data.reset_index(inplace=True)\n",
    "gme_data.head()"
   ]
  },
  {
   "attachments": {},
   "cell_type": "markdown",
   "metadata": {},
   "source": [
    "## Question 4: Use Webscraping to Extract GME Revenue Data"
   ]
  },
  {
   "cell_type": "code",
   "execution_count": null,
   "metadata": {},
   "outputs": [],
   "source": [
    "url = 'https://www.macrotrends.net/stocks/charts/GME/gme/revenue'\n",
    "html_data = requests.get(url).text"
   ]
  },
  {
   "cell_type": "code",
   "execution_count": null,
   "metadata": {},
   "outputs": [],
   "source": [
    "soup = BeautifulSoup(html_data)"
   ]
  },
  {
   "cell_type": "code",
   "execution_count": null,
   "metadata": {},
   "outputs": [],
   "source": [
    "gme_revenue = pd.DataFrame(columns = ['Date' , 'Revenue'])\n",
    "for table in soup.find_all('table'):\n",
    "    if any(['GameStop Quarterly Revenue'.lower() in th.text.lower() for th in table.find_all('th')]):\n",
    "        for row in soup.find_all('tbody')[1].find_all('tr'):\n",
    "            col = row.find_all('td')\n",
    "            Date = col[0].text\n",
    "            Revenue = col[1].text\n",
    "            gme_revenue = gme_revenue.append({'Date':Date, 'Revenue':Revenue}, ignore_index=True)  \n",
    "    "
   ]
  },
  {
   "cell_type": "code",
   "execution_count": null,
   "metadata": {},
   "outputs": [
    {
     "data": {
      "text/html": [
       "<div>\n",
       "<style scoped>\n",
       "    .dataframe tbody tr th:only-of-type {\n",
       "        vertical-align: middle;\n",
       "    }\n",
       "\n",
       "    .dataframe tbody tr th {\n",
       "        vertical-align: top;\n",
       "    }\n",
       "\n",
       "    .dataframe thead th {\n",
       "        text-align: right;\n",
       "    }\n",
       "</style>\n",
       "<table border=\"1\" class=\"dataframe\">\n",
       "  <thead>\n",
       "    <tr style=\"text-align: right;\">\n",
       "      <th></th>\n",
       "      <th>Date</th>\n",
       "      <th>Revenue</th>\n",
       "    </tr>\n",
       "  </thead>\n",
       "  <tbody>\n",
       "    <tr>\n",
       "      <th>51</th>\n",
       "      <td>2010-01-31</td>\n",
       "      <td>$3,524</td>\n",
       "    </tr>\n",
       "    <tr>\n",
       "      <th>52</th>\n",
       "      <td>2009-10-31</td>\n",
       "      <td>$1,835</td>\n",
       "    </tr>\n",
       "    <tr>\n",
       "      <th>53</th>\n",
       "      <td>2009-07-31</td>\n",
       "      <td>$1,739</td>\n",
       "    </tr>\n",
       "    <tr>\n",
       "      <th>54</th>\n",
       "      <td>2009-04-30</td>\n",
       "      <td>$1,981</td>\n",
       "    </tr>\n",
       "    <tr>\n",
       "      <th>55</th>\n",
       "      <td>2009-01-31</td>\n",
       "      <td>$3,492</td>\n",
       "    </tr>\n",
       "  </tbody>\n",
       "</table>\n",
       "</div>"
      ],
      "text/plain": [
       "          Date Revenue\n",
       "51  2010-01-31  $3,524\n",
       "52  2009-10-31  $1,835\n",
       "53  2009-07-31  $1,739\n",
       "54  2009-04-30  $1,981\n",
       "55  2009-01-31  $3,492"
      ]
     },
     "metadata": {},
     "output_type": "display_data"
    }
   ],
   "source": [
    "gme_revenue.tail(5)"
   ]
  },
  {
   "attachments": {},
   "cell_type": "markdown",
   "metadata": {},
   "source": [
    "## Question 5: Plot Tesla Stock Graph"
   ]
  },
  {
   "cell_type": "code",
   "execution_count": null,
   "metadata": {},
   "outputs": [],
   "source": [
    "make_graph(tesla_data, tesla_revenue, 'Tesla')"
   ]
  },
  {
   "attachments": {},
   "cell_type": "markdown",
   "metadata": {},
   "source": [
    "## Question 6: Plot GameStop Stock Graph\n"
   ]
  },
  {
   "cell_type": "code",
   "execution_count": null,
   "metadata": {},
   "outputs": [],
   "source": [
    "make_graph(gme_data, gme_revenue, 'GameStop')"
   ]
  }
 ],
 "metadata": {
  "kernelspec": {
   "display_name": "tensorflow-gpu",
   "language": "python",
   "name": "python3"
  },
  "language_info": {
   "codemirror_mode": {
    "name": "ipython",
    "version": 3
   },
   "file_extension": ".py",
   "mimetype": "text/x-python",
   "name": "python",
   "nbconvert_exporter": "python",
   "pygments_lexer": "ipython3",
   "version": "3.7.13 (default, Mar 28 2022, 08:03:21) [MSC v.1916 64 bit (AMD64)]"
  },
  "orig_nbformat": 4,
  "vscode": {
   "interpreter": {
    "hash": "86b963c1e04f934db58547b038f912db8af67d8874fe72efb06115100af833fc"
   }
  }
 },
 "nbformat": 4,
 "nbformat_minor": 2
}
