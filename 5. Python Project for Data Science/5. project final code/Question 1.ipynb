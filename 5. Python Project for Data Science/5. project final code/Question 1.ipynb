{
 "cells": [
  {
   "cell_type": "code",
   "execution_count": 2,
   "metadata": {},
   "outputs": [
    {
     "name": "stdout",
     "output_type": "stream",
     "text": [
      "Requirement already satisfied: yfinance==0.1.60 in c:\\users\\cathy\\anaconda3\\envs\\tensorflow-gpu\\lib\\site-packages (0.1.60)\n",
      "Requirement already satisfied: requests>=2.20 in c:\\users\\cathy\\anaconda3\\envs\\tensorflow-gpu\\lib\\site-packages (from yfinance==0.1.60) (2.28.1)\n",
      "Requirement already satisfied: numpy>=1.15 in c:\\users\\cathy\\anaconda3\\envs\\tensorflow-gpu\\lib\\site-packages (from yfinance==0.1.60) (1.19.2)\n",
      "Requirement already satisfied: lxml>=4.5.1 in c:\\users\\cathy\\anaconda3\\envs\\tensorflow-gpu\\lib\\site-packages (from yfinance==0.1.60) (4.9.1)\n",
      "Requirement already satisfied: pandas>=0.24 in c:\\users\\cathy\\anaconda3\\envs\\tensorflow-gpu\\lib\\site-packages (from yfinance==0.1.60) (1.3.5)\n",
      "Requirement already satisfied: multitasking>=0.0.7 in c:\\users\\cathy\\anaconda3\\envs\\tensorflow-gpu\\lib\\site-packages (from yfinance==0.1.60) (0.0.11)\n",
      "Requirement already satisfied: pytz>=2017.3 in c:\\users\\cathy\\anaconda3\\envs\\tensorflow-gpu\\lib\\site-packages (from pandas>=0.24->yfinance==0.1.60) (2022.7)\n",
      "Requirement already satisfied: python-dateutil>=2.7.3 in c:\\users\\cathy\\anaconda3\\envs\\tensorflow-gpu\\lib\\site-packages (from pandas>=0.24->yfinance==0.1.60) (2.8.2)\n",
      "Requirement already satisfied: charset-normalizer<3,>=2 in c:\\users\\cathy\\anaconda3\\envs\\tensorflow-gpu\\lib\\site-packages (from requests>=2.20->yfinance==0.1.60) (2.0.4)\n",
      "Requirement already satisfied: idna<4,>=2.5 in c:\\users\\cathy\\anaconda3\\envs\\tensorflow-gpu\\lib\\site-packages (from requests>=2.20->yfinance==0.1.60) (3.3)\n",
      "Requirement already satisfied: urllib3<1.27,>=1.21.1 in c:\\users\\cathy\\anaconda3\\envs\\tensorflow-gpu\\lib\\site-packages (from requests>=2.20->yfinance==0.1.60) (1.26.11)\n",
      "Requirement already satisfied: certifi>=2017.4.17 in c:\\users\\cathy\\anaconda3\\envs\\tensorflow-gpu\\lib\\site-packages (from requests>=2.20->yfinance==0.1.60) (2022.12.7)\n",
      "Requirement already satisfied: six>=1.5 in c:\\users\\cathy\\anaconda3\\envs\\tensorflow-gpu\\lib\\site-packages (from python-dateutil>=2.7.3->pandas>=0.24->yfinance==0.1.60) (1.16.0)\n"
     ]
    },
    {
     "name": "stderr",
     "output_type": "stream",
     "text": [
      "'mamba' ���O�����Υ~���R�O�B�i���檺�{���Χ妸�ɡC\n"
     ]
    },
    {
     "name": "stdout",
     "output_type": "stream",
     "text": [
      "Requirement already satisfied: nbformat==4.2.0 in c:\\users\\cathy\\anaconda3\\envs\\tensorflow-gpu\\lib\\site-packages (4.2.0)\n",
      "Requirement already satisfied: jsonschema!=2.5.0,>=2.4 in c:\\users\\cathy\\anaconda3\\envs\\tensorflow-gpu\\lib\\site-packages (from nbformat==4.2.0) (4.4.0)\n",
      "Requirement already satisfied: jupyter-core in c:\\users\\cathy\\anaconda3\\envs\\tensorflow-gpu\\lib\\site-packages (from nbformat==4.2.0) (4.10.0)\n",
      "Requirement already satisfied: traitlets>=4.1 in c:\\users\\cathy\\anaconda3\\envs\\tensorflow-gpu\\lib\\site-packages (from nbformat==4.2.0) (5.1.1)\n",
      "Requirement already satisfied: ipython-genutils in c:\\users\\cathy\\anaconda3\\envs\\tensorflow-gpu\\lib\\site-packages (from nbformat==4.2.0) (0.2.0)\n",
      "Requirement already satisfied: importlib-resources>=1.4.0 in c:\\users\\cathy\\anaconda3\\envs\\tensorflow-gpu\\lib\\site-packages (from jsonschema!=2.5.0,>=2.4->nbformat==4.2.0) (5.2.0)\n",
      "Requirement already satisfied: pyrsistent!=0.17.0,!=0.17.1,!=0.17.2,>=0.14.0 in c:\\users\\cathy\\anaconda3\\envs\\tensorflow-gpu\\lib\\site-packages (from jsonschema!=2.5.0,>=2.4->nbformat==4.2.0) (0.18.0)\n",
      "Requirement already satisfied: importlib-metadata in c:\\users\\cathy\\anaconda3\\envs\\tensorflow-gpu\\lib\\site-packages (from jsonschema!=2.5.0,>=2.4->nbformat==4.2.0) (4.11.3)\n",
      "Requirement already satisfied: typing-extensions in c:\\users\\cathy\\anaconda3\\envs\\tensorflow-gpu\\lib\\site-packages (from jsonschema!=2.5.0,>=2.4->nbformat==4.2.0) (4.3.0)\n",
      "Requirement already satisfied: attrs>=17.4.0 in c:\\users\\cathy\\anaconda3\\envs\\tensorflow-gpu\\lib\\site-packages (from jsonschema!=2.5.0,>=2.4->nbformat==4.2.0) (21.4.0)\n",
      "Requirement already satisfied: pywin32>=1.0 in c:\\users\\cathy\\anaconda3\\envs\\tensorflow-gpu\\lib\\site-packages (from jupyter-core->nbformat==4.2.0) (302)\n",
      "Requirement already satisfied: zipp>=3.1.0 in c:\\users\\cathy\\anaconda3\\envs\\tensorflow-gpu\\lib\\site-packages (from importlib-resources>=1.4.0->jsonschema!=2.5.0,>=2.4->nbformat==4.2.0) (3.8.0)\n"
     ]
    }
   ],
   "source": [
    "!pip install yfinance==0.1.60\n",
    "!mamba install bs4==4.10.0 -y\n",
    "!pip install nbformat==4.2.0\n"
   ]
  },
  {
   "cell_type": "code",
   "execution_count": 3,
   "metadata": {},
   "outputs": [],
   "source": [
    "import yfinance as yf\n",
    "import pandas as pd\n",
    "import requests\n",
    "from bs4 import BeautifulSoup\n",
    "import plotly.graph_objects as go\n",
    "from plotly.subplots import make_subplots"
   ]
  },
  {
   "cell_type": "code",
   "execution_count": 4,
   "metadata": {},
   "outputs": [],
   "source": [
    "def make_graph(stock_data, revenue_data, stock):\n",
    "    fig = make_subplots(rows=2, cols=1, shared_xaxes=True, subplot_titles=(\"Historical Share Price\", \"Historical Revenue\"), vertical_spacing = .3)\n",
    "    stock_data_specific = stock_data[stock_data.Date <= '2021--06-14']\n",
    "    revenue_data_specific = revenue_data[revenue_data.Date <= '2021-04-30']\n",
    "    fig.add_trace(go.Scatter(x=pd.to_datetime(stock_data_specific.Date, infer_datetime_format=True), y=stock_data_specific.Close.astype(\"float\"), name=\"Share Price\"), row=1, col=1)\n",
    "    fig.add_trace(go.Scatter(x=pd.to_datetime(revenue_data_specific.Date, infer_datetime_format=True), y=revenue_data_specific.Revenue.astype(\"float\"), name=\"Revenue\"), row=2, col=1)\n",
    "    fig.update_xaxes(title_text=\"Date\", row=1, col=1)\n",
    "    fig.update_xaxes(title_text=\"Date\", row=2, col=1)\n",
    "    fig.update_yaxes(title_text=\"Price ($US)\", row=1, col=1)\n",
    "    fig.update_yaxes(title_text=\"Revenue ($US Millions)\", row=2, col=1)\n",
    "    fig.update_layout(showlegend=False,\n",
    "    height=900,\n",
    "    title=stock,\n",
    "    xaxis_rangeslider_visible=True)\n",
    "    fig.show()"
   ]
  },
  {
   "attachments": {},
   "cell_type": "markdown",
   "metadata": {},
   "source": [
    "## Question 1: Use yfinance to Extract Stock Data"
   ]
  },
  {
   "cell_type": "code",
   "execution_count": 5,
   "metadata": {},
   "outputs": [],
   "source": [
    "tesla = yf.Ticker(\"TSLA\")"
   ]
  },
  {
   "cell_type": "code",
   "execution_count": null,
   "metadata": {},
   "outputs": [],
   "source": [
    "tesla_data=tesla.history(period=\"max\")"
   ]
  },
  {
   "cell_type": "code",
   "execution_count": null,
   "metadata": {},
   "outputs": [],
   "source": [
    "tesla_data.reset_index(inplace=True)\n",
    "tesla_data.head()"
   ]
  }
 ],
 "metadata": {
  "kernelspec": {
   "display_name": "tensorflow-gpu",
   "language": "python",
   "name": "python3"
  },
  "language_info": {
   "codemirror_mode": {
    "name": "ipython",
    "version": 3
   },
   "file_extension": ".py",
   "mimetype": "text/x-python",
   "name": "python",
   "nbconvert_exporter": "python",
   "pygments_lexer": "ipython3",
   "version": "3.7.13"
  },
  "orig_nbformat": 4,
  "vscode": {
   "interpreter": {
    "hash": "86b963c1e04f934db58547b038f912db8af67d8874fe72efb06115100af833fc"
   }
  }
 },
 "nbformat": 4,
 "nbformat_minor": 2
}
